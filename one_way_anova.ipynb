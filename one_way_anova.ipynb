{
 "cells": [
  {
   "cell_type": "markdown",
   "id": "77178408-7a60-4900-b9a6-8aac6f310d86",
   "metadata": {},
   "source": [
    "## ----------------------------------ANOVA ANALYSIS - ANALYSIS OF VARIANCE-----------------------"
   ]
  },
  {
   "cell_type": "code",
   "execution_count": 11,
   "id": "eed75efc-fb84-428d-b240-76ee14b933d9",
   "metadata": {},
   "outputs": [],
   "source": [
    "# Importing necessary libraries\n",
    "\n",
    "import pandas as pd\n",
    "from scipy.stats import f_oneway"
   ]
  },
  {
   "cell_type": "code",
   "execution_count": 12,
   "id": "e61fc8ed-2970-4ce0-b702-14c91f574dcc",
   "metadata": {},
   "outputs": [],
   "source": [
    "# Preparing dummy data using arrays\n",
    "    \n",
    "group1 = [23, 25, 27, 24, 26]\n",
    "group2 = [20, 22, 19, 21, 18]\n",
    "group3 = [28, 30, 27, 29, 31]"
   ]
  },
  {
   "cell_type": "code",
   "execution_count": 13,
   "id": "66fbf2e2-02f9-4902-8564-7fc5f95def90",
   "metadata": {},
   "outputs": [
    {
     "data": {
      "text/html": [
       "<div>\n",
       "<style scoped>\n",
       "    .dataframe tbody tr th:only-of-type {\n",
       "        vertical-align: middle;\n",
       "    }\n",
       "\n",
       "    .dataframe tbody tr th {\n",
       "        vertical-align: top;\n",
       "    }\n",
       "\n",
       "    .dataframe thead th {\n",
       "        text-align: right;\n",
       "    }\n",
       "</style>\n",
       "<table border=\"1\" class=\"dataframe\">\n",
       "  <thead>\n",
       "    <tr style=\"text-align: right;\">\n",
       "      <th></th>\n",
       "      <th>Scores</th>\n",
       "      <th>Group</th>\n",
       "    </tr>\n",
       "  </thead>\n",
       "  <tbody>\n",
       "    <tr>\n",
       "      <th>0</th>\n",
       "      <td>23</td>\n",
       "      <td>A</td>\n",
       "    </tr>\n",
       "    <tr>\n",
       "      <th>1</th>\n",
       "      <td>25</td>\n",
       "      <td>A</td>\n",
       "    </tr>\n",
       "    <tr>\n",
       "      <th>2</th>\n",
       "      <td>27</td>\n",
       "      <td>A</td>\n",
       "    </tr>\n",
       "    <tr>\n",
       "      <th>3</th>\n",
       "      <td>24</td>\n",
       "      <td>A</td>\n",
       "    </tr>\n",
       "    <tr>\n",
       "      <th>4</th>\n",
       "      <td>26</td>\n",
       "      <td>A</td>\n",
       "    </tr>\n",
       "    <tr>\n",
       "      <th>5</th>\n",
       "      <td>20</td>\n",
       "      <td>B</td>\n",
       "    </tr>\n",
       "    <tr>\n",
       "      <th>6</th>\n",
       "      <td>22</td>\n",
       "      <td>B</td>\n",
       "    </tr>\n",
       "    <tr>\n",
       "      <th>7</th>\n",
       "      <td>19</td>\n",
       "      <td>B</td>\n",
       "    </tr>\n",
       "    <tr>\n",
       "      <th>8</th>\n",
       "      <td>21</td>\n",
       "      <td>B</td>\n",
       "    </tr>\n",
       "    <tr>\n",
       "      <th>9</th>\n",
       "      <td>18</td>\n",
       "      <td>B</td>\n",
       "    </tr>\n",
       "    <tr>\n",
       "      <th>10</th>\n",
       "      <td>28</td>\n",
       "      <td>C</td>\n",
       "    </tr>\n",
       "    <tr>\n",
       "      <th>11</th>\n",
       "      <td>30</td>\n",
       "      <td>C</td>\n",
       "    </tr>\n",
       "    <tr>\n",
       "      <th>12</th>\n",
       "      <td>27</td>\n",
       "      <td>C</td>\n",
       "    </tr>\n",
       "    <tr>\n",
       "      <th>13</th>\n",
       "      <td>29</td>\n",
       "      <td>C</td>\n",
       "    </tr>\n",
       "    <tr>\n",
       "      <th>14</th>\n",
       "      <td>31</td>\n",
       "      <td>C</td>\n",
       "    </tr>\n",
       "  </tbody>\n",
       "</table>\n",
       "</div>"
      ],
      "text/plain": [
       "    Scores Group\n",
       "0       23     A\n",
       "1       25     A\n",
       "2       27     A\n",
       "3       24     A\n",
       "4       26     A\n",
       "5       20     B\n",
       "6       22     B\n",
       "7       19     B\n",
       "8       21     B\n",
       "9       18     B\n",
       "10      28     C\n",
       "11      30     C\n",
       "12      27     C\n",
       "13      29     C\n",
       "14      31     C"
      ]
     },
     "execution_count": 13,
     "metadata": {},
     "output_type": "execute_result"
    }
   ],
   "source": [
    "# Preparing dummy data using pandas dataframe\n",
    "\n",
    "\n",
    "data = {\n",
    "    'Scores': [23, 25, 27, 24, 26, 20, 22, 19, 21, 18, 28, 30, 27, 29, 31],\n",
    "    'Group': ['A']*5 + ['B']*5 + ['C']*5\n",
    "}\n",
    "df = pd.DataFrame(data)\n",
    "df"
   ]
  },
  {
   "cell_type": "markdown",
   "id": "b613d523-56d5-4bdf-8059-f1cec3c0c9db",
   "metadata": {},
   "source": [
    "## **f_oneway** function\n",
    "\n",
    "This Function performs the one way anova analysis of group1, group2 and group3\n",
    "\n",
    "Then it return the p-value and the f-statistic\n",
    "\n",
    "f-statistic\n",
    "-----------\n",
    "A higher f-statistic means the means of different groups are significantly different\n",
    "\n",
    "A lower f-statistic value means there is little difference in the means of the groups\n",
    "\n",
    "p-value\n",
    "----------\n",
    "p-value < 0.05: Reject the null hypothesis. The group means are significantly different.\n",
    "p-value ≥ 0.05: Fail to reject the null hypothesis. No significant difference between group means."
   ]
  },
  {
   "cell_type": "code",
   "execution_count": 14,
   "id": "367ca0f7-b3ba-4c6a-8e04-6237fa4e2f95",
   "metadata": {},
   "outputs": [
    {
     "data": {
      "text/plain": [
       "(40.66666666666663, 4.517173966629571e-06)"
      ]
     },
     "execution_count": 14,
     "metadata": {},
     "output_type": "execute_result"
    }
   ],
   "source": [
    "# Performing one-way anova analysis\n",
    "\n",
    "f_statistic, p_value = f_oneway(group1, group2, group3)\n",
    "f_statistic, p_value"
   ]
  },
  {
   "cell_type": "code",
   "execution_count": 15,
   "id": "c21fa12f-e943-4797-91b8-058c8ec88164",
   "metadata": {},
   "outputs": [
    {
     "name": "stdout",
     "output_type": "stream",
     "text": [
      "F-statistic: 40.667, p-value: 0.000\n"
     ]
    }
   ],
   "source": [
    "# If your data is in a dataframe\n",
    "\n",
    "groups = df.groupby('Group')['Scores'].apply(list)\n",
    "stat, p = f_oneway(*groups)\n",
    "print(f\"F-statistic: {stat:.3f}, p-value: {p:.3f}\")\n"
   ]
  }
 ],
 "metadata": {
  "kernelspec": {
   "display_name": "Python 3 (ipykernel)",
   "language": "python",
   "name": "python3"
  },
  "language_info": {
   "codemirror_mode": {
    "name": "ipython",
    "version": 3
   },
   "file_extension": ".py",
   "mimetype": "text/x-python",
   "name": "python",
   "nbconvert_exporter": "python",
   "pygments_lexer": "ipython3",
   "version": "3.11.10"
  }
 },
 "nbformat": 4,
 "nbformat_minor": 5
}

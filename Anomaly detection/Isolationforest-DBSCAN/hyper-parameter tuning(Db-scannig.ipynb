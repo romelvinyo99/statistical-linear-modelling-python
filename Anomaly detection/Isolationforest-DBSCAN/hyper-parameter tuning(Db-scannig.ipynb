{
 "cells": [
  {
   "cell_type": "markdown",
   "id": "fb77703c-f499-4494-a71e-9e6f96886e19",
   "metadata": {},
   "source": [
    "## ------------- DBSCAN: Best parameters search-----------------"
   ]
  },
  {
   "cell_type": "code",
   "execution_count": 301,
   "id": "62d46bbf-1263-448f-bcee-fe65e9f9bec8",
   "metadata": {},
   "outputs": [],
   "source": [
    "# Importations \n",
    "\n",
    "import numpy as np\n",
    "import pandas as pd\n",
    "import matplotlib.pyplot as plt\n",
    "from sklearn.datasets import load_iris\n",
    "from sklearn.cluster import DBSCAN\n",
    "from sklearn.neighbors import NearestNeighbors "
   ]
  },
  {
   "cell_type": "markdown",
   "id": "7deb2440-e09d-4add-a498-723836f45fe5",
   "metadata": {},
   "source": [
    "## Iris dataset"
   ]
  },
  {
   "cell_type": "code",
   "execution_count": 302,
   "id": "acebd443-27b8-4794-a4ef-990524e58e6d",
   "metadata": {},
   "outputs": [
    {
     "data": {
      "text/plain": [
       "(array([5.1, 3.5, 1.4, 0.2]), 0)"
      ]
     },
     "execution_count": 302,
     "metadata": {},
     "output_type": "execute_result"
    }
   ],
   "source": [
    "# Loading data - A dictionary with two keys (data and target)\n",
    "\n",
    "iris = load_iris()\n",
    "iris[\"data\"][0], iris[\"target\"][1]"
   ]
  },
  {
   "cell_type": "code",
   "execution_count": 303,
   "id": "859f00ad-bad3-4117-bd80-38eb88c8728a",
   "metadata": {},
   "outputs": [
    {
     "data": {
      "text/html": [
       "<div>\n",
       "<style scoped>\n",
       "    .dataframe tbody tr th:only-of-type {\n",
       "        vertical-align: middle;\n",
       "    }\n",
       "\n",
       "    .dataframe tbody tr th {\n",
       "        vertical-align: top;\n",
       "    }\n",
       "\n",
       "    .dataframe thead tr th {\n",
       "        text-align: left;\n",
       "    }\n",
       "</style>\n",
       "<table border=\"1\" class=\"dataframe\">\n",
       "  <thead>\n",
       "    <tr>\n",
       "      <th></th>\n",
       "      <th>sepal length (cm)</th>\n",
       "      <th>sepal width (cm)</th>\n",
       "      <th>petal length (cm)</th>\n",
       "      <th>petal width (cm)</th>\n",
       "    </tr>\n",
       "  </thead>\n",
       "  <tbody>\n",
       "    <tr>\n",
       "      <th>0</th>\n",
       "      <td>5.1</td>\n",
       "      <td>3.5</td>\n",
       "      <td>1.4</td>\n",
       "      <td>0.2</td>\n",
       "    </tr>\n",
       "    <tr>\n",
       "      <th>1</th>\n",
       "      <td>4.9</td>\n",
       "      <td>3.0</td>\n",
       "      <td>1.4</td>\n",
       "      <td>0.2</td>\n",
       "    </tr>\n",
       "    <tr>\n",
       "      <th>2</th>\n",
       "      <td>4.7</td>\n",
       "      <td>3.2</td>\n",
       "      <td>1.3</td>\n",
       "      <td>0.2</td>\n",
       "    </tr>\n",
       "  </tbody>\n",
       "</table>\n",
       "</div>"
      ],
      "text/plain": [
       "  sepal length (cm) sepal width (cm) petal length (cm) petal width (cm)\n",
       "0               5.1              3.5               1.4              0.2\n",
       "1               4.9              3.0               1.4              0.2\n",
       "2               4.7              3.2               1.3              0.2"
      ]
     },
     "execution_count": 303,
     "metadata": {},
     "output_type": "execute_result"
    }
   ],
   "source": [
    "# Loading data into a dataframe\n",
    "\n",
    "df = pd.DataFrame(iris[\"data\"].tolist(), columns = [iris[\"feature_names\"]])\n",
    "df.head(3)"
   ]
  },
  {
   "cell_type": "code",
   "execution_count": 304,
   "id": "b1d761fe-992a-4da1-90e4-bd5493297c5a",
   "metadata": {},
   "outputs": [
    {
     "name": "stdout",
     "output_type": "stream",
     "text": [
      "<class 'pandas.core.frame.DataFrame'>\n",
      "RangeIndex: 150 entries, 0 to 149\n",
      "Data columns (total 4 columns):\n",
      " #   Column                Non-Null Count  Dtype  \n",
      "---  ------                --------------  -----  \n",
      " 0   (sepal length (cm),)  150 non-null    float64\n",
      " 1   (sepal width (cm),)   150 non-null    float64\n",
      " 2   (petal length (cm),)  150 non-null    float64\n",
      " 3   (petal width (cm),)   150 non-null    float64\n",
      "dtypes: float64(4)\n",
      "memory usage: 4.8 KB\n"
     ]
    }
   ],
   "source": [
    "df.info()"
   ]
  },
  {
   "cell_type": "markdown",
   "id": "2e242032-c75e-4ced-88cd-c10b2c27385c",
   "metadata": {},
   "source": [
    "## Scaling data \n",
    "\n",
    "- DBSCAN is a distance algorithm that why it is important to scale data so that all the data is treated equally"
   ]
  },
  {
   "cell_type": "raw",
   "id": "031f15cf-0d83-4973-bb4b-3134b2e9f228",
   "metadata": {},
   "source": [
    "# Scaling data - in terms of standard deviations from the mean (z-score) - Manually \n",
    "\n",
    "for column in df.columns:\n",
    "    mean = df[column].mean()\n",
    "    std = df[column].std()\n",
    "    df[column] = df[column].apply(lambda x: (x - mean ) / std)\n",
    "df.head()    "
   ]
  },
  {
   "cell_type": "code",
   "execution_count": 305,
   "id": "97bf6a91-4335-42f4-b21f-f280c169fa4d",
   "metadata": {},
   "outputs": [
    {
     "data": {
      "text/html": [
       "<div>\n",
       "<style scoped>\n",
       "    .dataframe tbody tr th:only-of-type {\n",
       "        vertical-align: middle;\n",
       "    }\n",
       "\n",
       "    .dataframe tbody tr th {\n",
       "        vertical-align: top;\n",
       "    }\n",
       "\n",
       "    .dataframe thead tr th {\n",
       "        text-align: left;\n",
       "    }\n",
       "</style>\n",
       "<table border=\"1\" class=\"dataframe\">\n",
       "  <thead>\n",
       "    <tr>\n",
       "      <th></th>\n",
       "      <th>sepal length (cm)</th>\n",
       "      <th>sepal width (cm)</th>\n",
       "      <th>petal length (cm)</th>\n",
       "      <th>petal width (cm)</th>\n",
       "    </tr>\n",
       "  </thead>\n",
       "  <tbody>\n",
       "    <tr>\n",
       "      <th>0</th>\n",
       "      <td>-0.900681</td>\n",
       "      <td>1.019004</td>\n",
       "      <td>-1.340227</td>\n",
       "      <td>-1.315444</td>\n",
       "    </tr>\n",
       "    <tr>\n",
       "      <th>1</th>\n",
       "      <td>-1.143017</td>\n",
       "      <td>-0.131979</td>\n",
       "      <td>-1.340227</td>\n",
       "      <td>-1.315444</td>\n",
       "    </tr>\n",
       "    <tr>\n",
       "      <th>2</th>\n",
       "      <td>-1.385353</td>\n",
       "      <td>0.328414</td>\n",
       "      <td>-1.397064</td>\n",
       "      <td>-1.315444</td>\n",
       "    </tr>\n",
       "    <tr>\n",
       "      <th>3</th>\n",
       "      <td>-1.506521</td>\n",
       "      <td>0.098217</td>\n",
       "      <td>-1.283389</td>\n",
       "      <td>-1.315444</td>\n",
       "    </tr>\n",
       "    <tr>\n",
       "      <th>4</th>\n",
       "      <td>-1.021849</td>\n",
       "      <td>1.249201</td>\n",
       "      <td>-1.340227</td>\n",
       "      <td>-1.315444</td>\n",
       "    </tr>\n",
       "    <tr>\n",
       "      <th>...</th>\n",
       "      <td>...</td>\n",
       "      <td>...</td>\n",
       "      <td>...</td>\n",
       "      <td>...</td>\n",
       "    </tr>\n",
       "    <tr>\n",
       "      <th>145</th>\n",
       "      <td>1.038005</td>\n",
       "      <td>-0.131979</td>\n",
       "      <td>0.819596</td>\n",
       "      <td>1.448832</td>\n",
       "    </tr>\n",
       "    <tr>\n",
       "      <th>146</th>\n",
       "      <td>0.553333</td>\n",
       "      <td>-1.282963</td>\n",
       "      <td>0.705921</td>\n",
       "      <td>0.922303</td>\n",
       "    </tr>\n",
       "    <tr>\n",
       "      <th>147</th>\n",
       "      <td>0.795669</td>\n",
       "      <td>-0.131979</td>\n",
       "      <td>0.819596</td>\n",
       "      <td>1.053935</td>\n",
       "    </tr>\n",
       "    <tr>\n",
       "      <th>148</th>\n",
       "      <td>0.432165</td>\n",
       "      <td>0.788808</td>\n",
       "      <td>0.933271</td>\n",
       "      <td>1.448832</td>\n",
       "    </tr>\n",
       "    <tr>\n",
       "      <th>149</th>\n",
       "      <td>0.068662</td>\n",
       "      <td>-0.131979</td>\n",
       "      <td>0.762758</td>\n",
       "      <td>0.790671</td>\n",
       "    </tr>\n",
       "  </tbody>\n",
       "</table>\n",
       "<p>150 rows × 4 columns</p>\n",
       "</div>"
      ],
      "text/plain": [
       "    sepal length (cm) sepal width (cm) petal length (cm) petal width (cm)\n",
       "0           -0.900681         1.019004         -1.340227        -1.315444\n",
       "1           -1.143017        -0.131979         -1.340227        -1.315444\n",
       "2           -1.385353         0.328414         -1.397064        -1.315444\n",
       "3           -1.506521         0.098217         -1.283389        -1.315444\n",
       "4           -1.021849         1.249201         -1.340227        -1.315444\n",
       "..                ...              ...               ...              ...\n",
       "145          1.038005        -0.131979          0.819596         1.448832\n",
       "146          0.553333        -1.282963          0.705921         0.922303\n",
       "147          0.795669        -0.131979          0.819596         1.053935\n",
       "148          0.432165         0.788808          0.933271         1.448832\n",
       "149          0.068662        -0.131979          0.762758         0.790671\n",
       "\n",
       "[150 rows x 4 columns]"
      ]
     },
     "execution_count": 305,
     "metadata": {},
     "output_type": "execute_result"
    }
   ],
   "source": [
    "# Automatic scaling -->  same as the manual method\n",
    "\n",
    "from sklearn.preprocessing import StandardScaler\n",
    "\n",
    "scaler = StandardScaler()\n",
    "df = scaler.fit_transform(df)\n",
    "scaled_df = pd.DataFrame(df, columns = [iris[\"feature_names\"]])\n",
    "scaled_df"
   ]
  },
  {
   "cell_type": "markdown",
   "id": "061a3ad8-f442-4cb0-99a4-d853785e60a8",
   "metadata": {},
   "source": [
    "## Implement DBSCAN algorithm\n",
    "\n",
    "Main Hyper-parameters: \n",
    "   1. eps -> search radius\n",
    "   2. min_samples - > Minimum number of points required to form a cluster\n",
    "    \n",
    "Rule of thumb - I like to use number of features * 2 as a value for min samples\n",
    "\n",
    "But as it is in machine learning we learn by experimentation"
   ]
  },
  {
   "cell_type": "code",
   "execution_count": 306,
   "id": "53baf768-fee4-47f0-9a12-a3d8d91238b3",
   "metadata": {},
   "outputs": [
    {
     "data": {
      "text/html": [
       "<div>\n",
       "<style scoped>\n",
       "    .dataframe tbody tr th:only-of-type {\n",
       "        vertical-align: middle;\n",
       "    }\n",
       "\n",
       "    .dataframe tbody tr th {\n",
       "        vertical-align: top;\n",
       "    }\n",
       "\n",
       "    .dataframe thead tr th {\n",
       "        text-align: left;\n",
       "    }\n",
       "</style>\n",
       "<table border=\"1\" class=\"dataframe\">\n",
       "  <thead>\n",
       "    <tr>\n",
       "      <th></th>\n",
       "      <th>sepal length (cm)</th>\n",
       "      <th>sepal width (cm)</th>\n",
       "      <th>petal length (cm)</th>\n",
       "      <th>petal width (cm)</th>\n",
       "    </tr>\n",
       "  </thead>\n",
       "  <tbody>\n",
       "    <tr>\n",
       "      <th>0</th>\n",
       "      <td>-0.900681</td>\n",
       "      <td>1.019004</td>\n",
       "      <td>-1.340227</td>\n",
       "      <td>-1.315444</td>\n",
       "    </tr>\n",
       "    <tr>\n",
       "      <th>1</th>\n",
       "      <td>-1.143017</td>\n",
       "      <td>-0.131979</td>\n",
       "      <td>-1.340227</td>\n",
       "      <td>-1.315444</td>\n",
       "    </tr>\n",
       "    <tr>\n",
       "      <th>2</th>\n",
       "      <td>-1.385353</td>\n",
       "      <td>0.328414</td>\n",
       "      <td>-1.397064</td>\n",
       "      <td>-1.315444</td>\n",
       "    </tr>\n",
       "    <tr>\n",
       "      <th>3</th>\n",
       "      <td>-1.506521</td>\n",
       "      <td>0.098217</td>\n",
       "      <td>-1.283389</td>\n",
       "      <td>-1.315444</td>\n",
       "    </tr>\n",
       "    <tr>\n",
       "      <th>4</th>\n",
       "      <td>-1.021849</td>\n",
       "      <td>1.249201</td>\n",
       "      <td>-1.340227</td>\n",
       "      <td>-1.315444</td>\n",
       "    </tr>\n",
       "    <tr>\n",
       "      <th>...</th>\n",
       "      <td>...</td>\n",
       "      <td>...</td>\n",
       "      <td>...</td>\n",
       "      <td>...</td>\n",
       "    </tr>\n",
       "    <tr>\n",
       "      <th>145</th>\n",
       "      <td>1.038005</td>\n",
       "      <td>-0.131979</td>\n",
       "      <td>0.819596</td>\n",
       "      <td>1.448832</td>\n",
       "    </tr>\n",
       "    <tr>\n",
       "      <th>146</th>\n",
       "      <td>0.553333</td>\n",
       "      <td>-1.282963</td>\n",
       "      <td>0.705921</td>\n",
       "      <td>0.922303</td>\n",
       "    </tr>\n",
       "    <tr>\n",
       "      <th>147</th>\n",
       "      <td>0.795669</td>\n",
       "      <td>-0.131979</td>\n",
       "      <td>0.819596</td>\n",
       "      <td>1.053935</td>\n",
       "    </tr>\n",
       "    <tr>\n",
       "      <th>148</th>\n",
       "      <td>0.432165</td>\n",
       "      <td>0.788808</td>\n",
       "      <td>0.933271</td>\n",
       "      <td>1.448832</td>\n",
       "    </tr>\n",
       "    <tr>\n",
       "      <th>149</th>\n",
       "      <td>0.068662</td>\n",
       "      <td>-0.131979</td>\n",
       "      <td>0.762758</td>\n",
       "      <td>0.790671</td>\n",
       "    </tr>\n",
       "  </tbody>\n",
       "</table>\n",
       "<p>150 rows × 4 columns</p>\n",
       "</div>"
      ],
      "text/plain": [
       "    sepal length (cm) sepal width (cm) petal length (cm) petal width (cm)\n",
       "0           -0.900681         1.019004         -1.340227        -1.315444\n",
       "1           -1.143017        -0.131979         -1.340227        -1.315444\n",
       "2           -1.385353         0.328414         -1.397064        -1.315444\n",
       "3           -1.506521         0.098217         -1.283389        -1.315444\n",
       "4           -1.021849         1.249201         -1.340227        -1.315444\n",
       "..                ...              ...               ...              ...\n",
       "145          1.038005        -0.131979          0.819596         1.448832\n",
       "146          0.553333        -1.282963          0.705921         0.922303\n",
       "147          0.795669        -0.131979          0.819596         1.053935\n",
       "148          0.432165         0.788808          0.933271         1.448832\n",
       "149          0.068662        -0.131979          0.762758         0.790671\n",
       "\n",
       "[150 rows x 4 columns]"
      ]
     },
     "execution_count": 306,
     "metadata": {},
     "output_type": "execute_result"
    }
   ],
   "source": [
    "scaled_df"
   ]
  },
  {
   "cell_type": "code",
   "execution_count": 307,
   "id": "52c8bd4f-1153-4d22-9d09-d5ac9cbd55c3",
   "metadata": {},
   "outputs": [
    {
     "data": {
      "text/html": [
       "<div>\n",
       "<style scoped>\n",
       "    .dataframe tbody tr th:only-of-type {\n",
       "        vertical-align: middle;\n",
       "    }\n",
       "\n",
       "    .dataframe tbody tr th {\n",
       "        vertical-align: top;\n",
       "    }\n",
       "\n",
       "    .dataframe thead tr th {\n",
       "        text-align: left;\n",
       "    }\n",
       "</style>\n",
       "<table border=\"1\" class=\"dataframe\">\n",
       "  <thead>\n",
       "    <tr>\n",
       "      <th></th>\n",
       "      <th>sepal length (cm)</th>\n",
       "      <th>sepal width (cm)</th>\n",
       "      <th>petal length (cm)</th>\n",
       "      <th>petal width (cm)</th>\n",
       "    </tr>\n",
       "  </thead>\n",
       "  <tbody>\n",
       "    <tr>\n",
       "      <th>0</th>\n",
       "      <td>-0.900681</td>\n",
       "      <td>1.019004</td>\n",
       "      <td>-1.340227</td>\n",
       "      <td>-1.315444</td>\n",
       "    </tr>\n",
       "    <tr>\n",
       "      <th>1</th>\n",
       "      <td>-1.143017</td>\n",
       "      <td>-0.131979</td>\n",
       "      <td>-1.340227</td>\n",
       "      <td>-1.315444</td>\n",
       "    </tr>\n",
       "    <tr>\n",
       "      <th>2</th>\n",
       "      <td>-1.385353</td>\n",
       "      <td>0.328414</td>\n",
       "      <td>-1.397064</td>\n",
       "      <td>-1.315444</td>\n",
       "    </tr>\n",
       "  </tbody>\n",
       "</table>\n",
       "</div>"
      ],
      "text/plain": [
       "  sepal length (cm) sepal width (cm) petal length (cm) petal width (cm)\n",
       "0         -0.900681         1.019004         -1.340227        -1.315444\n",
       "1         -1.143017        -0.131979         -1.340227        -1.315444\n",
       "2         -1.385353         0.328414         -1.397064        -1.315444"
      ]
     },
     "execution_count": 307,
     "metadata": {},
     "output_type": "execute_result"
    }
   ],
   "source": [
    "# Initializing the algorithm\n",
    "\n",
    "min_samples = scaled_df.shape[1] * 2\n",
    "dbscan = DBSCAN(eps = 0.5, min_samples = min_samples)\n",
    "# Fitting the model and making predictions\n",
    "clusters = dbscan.fit_predict(scaled_df)\n",
    "scaled_df.head(3)"
   ]
  },
  {
   "cell_type": "code",
   "execution_count": 308,
   "id": "b8fd13bc-60ed-4c53-96a4-41ee2418b494",
   "metadata": {},
   "outputs": [
    {
     "data": {
      "text/plain": [
       "array([-1,  0,  1,  2], dtype=int64)"
      ]
     },
     "execution_count": 308,
     "metadata": {},
     "output_type": "execute_result"
    }
   ],
   "source": [
    "# Checking the cluster values - -1 is a suggestion of an outlier\n",
    "\n",
    "np.unique(clusters)"
   ]
  },
  {
   "cell_type": "markdown",
   "id": "87ed2c22-5546-49d0-a0da-4fb8ef31202c",
   "metadata": {},
   "source": [
    "## Implement DBSCAN with elbow method\n",
    "\n",
    "- Just like Kmeans we can use the elbow method for hyper-parameter tuning\n",
    "- Instead of optimal number of clusters here we find the optimal value for epsilon\n",
    "- In DBSCAN we find the distance to the nearest neighbors to find the optimal radius\n",
    "- We find k-closest point\n",
    "- We will plot the distances to find the elbow\n",
    "- Threshhold for k = 2 --> The minimum value"
   ]
  },
  {
   "cell_type": "code",
   "execution_count": 309,
   "id": "3720f9f7-851e-4fc7-8595-91e9fb7a95ac",
   "metadata": {},
   "outputs": [
    {
     "data": {
      "text/plain": [
       "(array([[0.        , 0.13163218, 0.13383627, ..., 0.26013882, 0.26013882,\n",
       "         0.2662756 ],\n",
       "        [0.        , 0.16614339, 0.17890971, ..., 0.27119749, 0.28389113,\n",
       "         0.43399991],\n",
       "        [0.        , 0.13383627, 0.17051228, ..., 0.35304268, 0.36350361,\n",
       "         0.36792033],\n",
       "        ...,\n",
       "        [0.        , 0.31365995, 0.40749818, ..., 0.46332483, 0.46388867,\n",
       "         0.4770659 ],\n",
       "        [0.        , 0.21196853, 0.50326741, ..., 0.72001003, 0.72740278,\n",
       "         0.90623619],\n",
       "        [0.        , 0.20917957, 0.26767253, ..., 0.60717322, 0.61087766,\n",
       "         0.63590559]]),\n",
       " array([[  0,  17,  27, ...,   4,  28,   7],\n",
       "        [  1,  25,  12, ...,   9,  30,   3],\n",
       "        [  2,  47,  29, ...,  34,  42,  35],\n",
       "        ...,\n",
       "        [147, 116, 137, ..., 145, 110,  77],\n",
       "        [148, 136, 100, ..., 144, 110, 143],\n",
       "        [149, 138, 127, ..., 103, 126,  66]], dtype=int64))"
      ]
     },
     "execution_count": 309,
     "metadata": {},
     "output_type": "execute_result"
    }
   ],
   "source": [
    "# Setting the k-value for neighbors --> Threshhold is 2\n",
    "k = min_samples if min_samples > 2 else 2\n",
    "# Initializing and fitting the knn algorithm\n",
    "neighbors = NearestNeighbors(n_neighbors=k).fit(scaled_df)\n",
    "# Getting the distances\n",
    "distances, indices = neighbors.kneighbors(scaled_df)\n",
    "# The distances --> The distance of each k-point with respect to the i-th point in the dataset\n",
    "# The indices --> For each datapoint the algorithm detects the indices of its k-points\n",
    "distances, indices"
   ]
  },
  {
   "cell_type": "code",
   "execution_count": 310,
   "id": "82e1493f-a0d3-4738-a370-7fa6c2d90208",
   "metadata": {},
   "outputs": [
    {
     "name": "stdout",
     "output_type": "stream",
     "text": [
      "min_samples: 8\n",
      "shape of distance matrix: (150, 8)\n"
     ]
    }
   ],
   "source": [
    "# More in depth explanation\n",
    "\n",
    "# Number of k points\n",
    "print(\"min_samples: \" + str(min_samples))\n",
    "# Each datapoint has 10 distances since we have 10 k points\n",
    "print(\"shape of distance matrix: \" + str(distances.shape))"
   ]
  },
  {
   "cell_type": "code",
   "execution_count": 311,
   "id": "4ae9612f-0b79-4958-a907-8d0d0f76c481",
   "metadata": {},
   "outputs": [
    {
     "name": "stdout",
     "output_type": "stream",
     "text": [
      "Observation 0:[0.0, 0.13, 0.13, 0.19, 0.24, 0.26, 0.26, 0.27]\n",
      "Observation 1:[0.0, 0.17, 0.18, 0.18, 0.24, 0.27, 0.28, 0.43]\n",
      "Observation 2:[0.0, 0.13, 0.17, 0.28, 0.31, 0.35, 0.36, 0.37]\n",
      "Observation 3:[0.0, 0.24, 0.25, 0.27, 0.28, 0.35, 0.35, 0.36]\n",
      "Observation 4:[0.0, 0.18, 0.26, 0.27, 0.29, 0.34, 0.37, 0.43]\n"
     ]
    }
   ],
   "source": [
    "# Printing the distances for the k-th row for the first five datapoints\n",
    "# Note: The distances are arranged in ascending order-the farthest point is the point in the last index\n",
    "\n",
    "for enum, row in enumerate(distances[:5]):\n",
    "    print(f\"Observation {enum}:\" + str([round(x, 2) for x in row]))"
   ]
  },
  {
   "cell_type": "code",
   "execution_count": 312,
   "id": "849c77d5-d3c6-4ac8-b859-fb1e09722078",
   "metadata": {},
   "outputs": [
    {
     "data": {
      "text/html": [
       "<div>\n",
       "<style scoped>\n",
       "    .dataframe tbody tr th:only-of-type {\n",
       "        vertical-align: middle;\n",
       "    }\n",
       "\n",
       "    .dataframe tbody tr th {\n",
       "        vertical-align: top;\n",
       "    }\n",
       "\n",
       "    .dataframe thead tr th {\n",
       "        text-align: left;\n",
       "    }\n",
       "</style>\n",
       "<table border=\"1\" class=\"dataframe\">\n",
       "  <thead>\n",
       "    <tr>\n",
       "      <th></th>\n",
       "      <th>sepal length (cm)</th>\n",
       "      <th>sepal width (cm)</th>\n",
       "      <th>petal length (cm)</th>\n",
       "      <th>petal width (cm)</th>\n",
       "      <th>KNN_farthest_point</th>\n",
       "    </tr>\n",
       "  </thead>\n",
       "  <tbody>\n",
       "    <tr>\n",
       "      <th>0</th>\n",
       "      <td>-0.900681</td>\n",
       "      <td>1.019004</td>\n",
       "      <td>-1.340227</td>\n",
       "      <td>-1.315444</td>\n",
       "      <td>0.266276</td>\n",
       "    </tr>\n",
       "    <tr>\n",
       "      <th>1</th>\n",
       "      <td>-1.143017</td>\n",
       "      <td>-0.131979</td>\n",
       "      <td>-1.340227</td>\n",
       "      <td>-1.315444</td>\n",
       "      <td>0.434000</td>\n",
       "    </tr>\n",
       "    <tr>\n",
       "      <th>2</th>\n",
       "      <td>-1.385353</td>\n",
       "      <td>0.328414</td>\n",
       "      <td>-1.397064</td>\n",
       "      <td>-1.315444</td>\n",
       "      <td>0.367920</td>\n",
       "    </tr>\n",
       "    <tr>\n",
       "      <th>3</th>\n",
       "      <td>-1.506521</td>\n",
       "      <td>0.098217</td>\n",
       "      <td>-1.283389</td>\n",
       "      <td>-1.315444</td>\n",
       "      <td>0.363504</td>\n",
       "    </tr>\n",
       "    <tr>\n",
       "      <th>4</th>\n",
       "      <td>-1.021849</td>\n",
       "      <td>1.249201</td>\n",
       "      <td>-1.340227</td>\n",
       "      <td>-1.315444</td>\n",
       "      <td>0.434000</td>\n",
       "    </tr>\n",
       "    <tr>\n",
       "      <th>5</th>\n",
       "      <td>-0.537178</td>\n",
       "      <td>1.939791</td>\n",
       "      <td>-1.169714</td>\n",
       "      <td>-1.052180</td>\n",
       "      <td>0.555764</td>\n",
       "    </tr>\n",
       "  </tbody>\n",
       "</table>\n",
       "</div>"
      ],
      "text/plain": [
       "  sepal length (cm) sepal width (cm) petal length (cm) petal width (cm)  \\\n",
       "0         -0.900681         1.019004         -1.340227        -1.315444   \n",
       "1         -1.143017        -0.131979         -1.340227        -1.315444   \n",
       "2         -1.385353         0.328414         -1.397064        -1.315444   \n",
       "3         -1.506521         0.098217         -1.283389        -1.315444   \n",
       "4         -1.021849         1.249201         -1.340227        -1.315444   \n",
       "5         -0.537178         1.939791         -1.169714        -1.052180   \n",
       "\n",
       "  KNN_farthest_point  \n",
       "0           0.266276  \n",
       "1           0.434000  \n",
       "2           0.367920  \n",
       "3           0.363504  \n",
       "4           0.434000  \n",
       "5           0.555764  "
      ]
     },
     "execution_count": 312,
     "metadata": {},
     "output_type": "execute_result"
    }
   ],
   "source": [
    "# The last cell of each row represents the distance of the kth farthest point\n",
    "scaled_df[\"KNN_farthest_point\"] = distances[:, -1]\n",
    "scaled_df.head(6)"
   ]
  },
  {
   "cell_type": "code",
   "execution_count": 313,
   "id": "e5a05e9d-b209-4f36-a013-d96629b8cfb5",
   "metadata": {},
   "outputs": [
    {
     "data": {
      "image/png": "[encoded data removed]",
      "text/plain": [
       "<Figure size 640x480 with 1 Axes>"
      ]
     },
     "metadata": {},
     "output_type": "display_data"
    }
   ],
   "source": [
    "# The elbow method is not definite but it gives us a ball park\n",
    "\n",
    "scaled_df.columns = [col[0] if isinstance(col, tuple) else col for col in scaled_df.columns]\n",
    "\n",
    "# Then try to sort the DataFrame\n",
    "scaled_df.sort_values(\"KNN_farthest_point\", ascending=False).reset_index()[[\"KNN_farthest_point\"]].plot()\n",
    "plt.xlabel(\"index\")\n",
    "plt.ylabel(\"distance\")\n",
    "plt.grid(True)\n",
    "plt.show()"
   ]
  },
  {
   "cell_type": "code",
   "execution_count": 314,
   "id": "46bd9e3d-01d1-4c85-b1c1-8752d91053f0",
   "metadata": {},
   "outputs": [
    {
     "data": {
      "text/plain": [
       "array([  0,   1,   2,   3,   4,   5,   6,   7,   8,   9,  10,  11,  12,\n",
       "        13,  14,  15,  16,  17,  18,  19,  20,  21,  22,  23,  24,  25,\n",
       "        26,  27,  28,  29,  30,  31,  32,  33,  34,  35,  36,  37,  38,\n",
       "        39,  40,  41,  42,  43,  44,  45,  46,  47,  48,  49,  50,  51,\n",
       "        52,  53,  54,  55,  56,  57,  58,  59,  60,  61,  62,  63,  64,\n",
       "        65,  66,  67,  68,  69,  70,  71,  72,  73,  74,  75,  76,  77,\n",
       "        78,  79,  80,  81,  82,  83,  84,  85,  86,  87,  88,  89,  90,\n",
       "        91,  92,  93,  94,  95,  96,  97,  98,  99, 100, 101, 102, 103,\n",
       "       104, 105, 106, 107, 108, 109, 110, 111, 112, 113, 114, 115, 116,\n",
       "       117, 118, 119, 120, 121, 122, 123, 124, 125, 126, 127, 128, 129,\n",
       "       130, 131, 132, 133, 134, 135, 136, 137, 138, 139, 140, 141, 142,\n",
       "       143, 144, 145, 146, 147, 148, 149, 150])"
      ]
     },
     "execution_count": 314,
     "metadata": {},
     "output_type": "execute_result"
    }
   ],
   "source": [
    "np.arange(0, 151)"
   ]
  },
  {
   "cell_type": "code",
   "execution_count": 315,
   "id": "afdce571-e985-4485-b7d5-528c848f1130",
   "metadata": {},
   "outputs": [
    {
     "data": {
      "text/plain": [
       "array([-1,  0,  1], dtype=int64)"
      ]
     },
     "execution_count": 315,
     "metadata": {},
     "output_type": "execute_result"
    }
   ],
   "source": [
    "# Initializing the algorithm\n",
    "\n",
    "min_samples = scaled_df.shape[1] * 2\n",
    "dbscan = DBSCAN(eps = 0.7, min_samples = min_samples)\n",
    "# Fitting the model and making predictions\n",
    "clusters = dbscan.fit_predict(scaled_df.drop(columns = [\"KNN_farthest_point\"], axis = 1))\n",
    "np.unique(clusters)"
   ]
  },
  {
   "cell_type": "markdown",
   "id": "17cee944-147c-418e-b43e-80a574c8cb0f",
   "metadata": {},
   "source": [
    "## --------------DBSCAN Disadvantages and advantages----------------\n",
    "\n",
    "Overview: \n",
    "   1. Clustering technique\n",
    "   2. Broadcast a signal\n",
    "   3. Clustering anyone within the signal\n",
    "\n",
    "Advantages:\n",
    "\n",
    "   1. Can model any shape\n",
    "   2. Does not require a predifined number of clusters\n",
    "   3. Unnafected by outliers - Works with distances\n",
    "   4. Only two parameters to tune\n",
    "   5. Easy to implement\n",
    "\n",
    "Disadvantages:\n",
    "\n",
    "   1. non-determinisitic - can produce mutiple results with different runs\n",
    "   2. Does not handle different cluster densities well\n",
    "       * Some require a small while others a large epsilon\n",
    "       * A large epsilon will cause the groups to chain together\n",
    "       * Small density might create many small clusters\n",
    "       * Does not work well with high dimensions\n",
    "    "
   ]
  },
  {
   "cell_type": "code",
   "execution_count": null,
   "id": "fc2bac84-4ee2-457d-a3ee-e3bf329fdf58",
   "metadata": {},
   "outputs": [],
   "source": []
  }
 ],
 "metadata": {
  "kernelspec": {
   "display_name": "Python 3 (ipykernel)",
   "language": "python",
   "name": "python3"
  },
  "language_info": {
   "codemirror_mode": {
    "name": "ipython",
    "version": 3
   },
   "file_extension": ".py",
   "mimetype": "text/x-python",
   "name": "python",
   "nbconvert_exporter": "python",
   "pygments_lexer": "ipython3",
   "version": "3.11.10"
  }
 },
 "nbformat": 4,
 "nbformat_minor": 5
}

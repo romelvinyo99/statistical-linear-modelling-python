{
 "cells": [
  {
   "cell_type": "markdown",
   "id": "722d0d4b-2aac-4845-9708-443656e300fb",
   "metadata": {},
   "source": [
    "## One-Way Anova"
   ]
  },
  {
   "cell_type": "markdown",
   "id": "9778c6ae-e329-4367-9212-cc78cb2cae30",
   "metadata": {},
   "source": [
    "## 1. Generating data"
   ]
  },
  {
   "cell_type": "code",
   "execution_count": 14,
   "id": "1a1bb95b-20a9-4385-8d3d-763f1a2cf98f",
   "metadata": {},
   "outputs": [],
   "source": [
    "# Importations\n",
    "\n",
    "import pandas as pd\n",
    "import numpy as np\n",
    "import seaborn as sns\n",
    "import matplotlib.pyplot as plt"
   ]
  },
  {
   "cell_type": "code",
   "execution_count": 11,
   "id": "3151382d-2b9e-444f-932b-98638526257d",
   "metadata": {},
   "outputs": [],
   "source": [
    "# Generating dummy data\n",
    "\n",
    "# Setting the random seed - reproducibility\n",
    "np.random.seed(42)\n",
    "\n",
    "# Generating three groups with different means - mean = 50/55/60 std = 5 samples = 30\n",
    "group_1 = np.random.normal(loc = 50, scale = 5, size = 30)\n",
    "group_2 = np.random.normal(loc = 55, scale = 5, size = 30)\n",
    "group_3 = np.random.normal(loc = 60, scale = 5, size = 30)"
   ]
  },
  {
   "cell_type": "code",
   "execution_count": 12,
   "id": "13ff967d-2e38-4994-a8ab-918e7799f6ec",
   "metadata": {},
   "outputs": [
    {
     "data": {
      "text/plain": [
       "(90,)"
      ]
     },
     "execution_count": 12,
     "metadata": {},
     "output_type": "execute_result"
    }
   ],
   "source": [
    "# Checking how concatenation works - it combines the generated data into a 1-dimensional array\n",
    "\n",
    "np.concatenate([group_1, group_2, group_3]).shape"
   ]
  },
  {
   "cell_type": "code",
   "execution_count": 13,
   "id": "fb32b789-5c5e-404e-a8f8-36a03ced4c60",
   "metadata": {},
   "outputs": [
    {
     "data": {
      "text/html": [
       "<div>\n",
       "<style scoped>\n",
       "    .dataframe tbody tr th:only-of-type {\n",
       "        vertical-align: middle;\n",
       "    }\n",
       "\n",
       "    .dataframe tbody tr th {\n",
       "        vertical-align: top;\n",
       "    }\n",
       "\n",
       "    .dataframe thead th {\n",
       "        text-align: right;\n",
       "    }\n",
       "</style>\n",
       "<table border=\"1\" class=\"dataframe\">\n",
       "  <thead>\n",
       "    <tr style=\"text-align: right;\">\n",
       "      <th></th>\n",
       "      <th>values</th>\n",
       "      <th>groups</th>\n",
       "    </tr>\n",
       "  </thead>\n",
       "  <tbody>\n",
       "    <tr>\n",
       "      <th>41</th>\n",
       "      <td>55.856841</td>\n",
       "      <td>Group 2</td>\n",
       "    </tr>\n",
       "    <tr>\n",
       "      <th>35</th>\n",
       "      <td>48.895782</td>\n",
       "      <td>Group 2</td>\n",
       "    </tr>\n",
       "    <tr>\n",
       "      <th>49</th>\n",
       "      <td>46.184799</td>\n",
       "      <td>Group 2</td>\n",
       "    </tr>\n",
       "    <tr>\n",
       "      <th>52</th>\n",
       "      <td>51.615390</td>\n",
       "      <td>Group 2</td>\n",
       "    </tr>\n",
       "    <tr>\n",
       "      <th>65</th>\n",
       "      <td>66.781200</td>\n",
       "      <td>Group 3</td>\n",
       "    </tr>\n",
       "    <tr>\n",
       "      <th>44</th>\n",
       "      <td>47.607390</td>\n",
       "      <td>Group 2</td>\n",
       "    </tr>\n",
       "    <tr>\n",
       "      <th>13</th>\n",
       "      <td>40.433599</td>\n",
       "      <td>Group 1</td>\n",
       "    </tr>\n",
       "  </tbody>\n",
       "</table>\n",
       "</div>"
      ],
      "text/plain": [
       "       values   groups\n",
       "41  55.856841  Group 2\n",
       "35  48.895782  Group 2\n",
       "49  46.184799  Group 2\n",
       "52  51.615390  Group 2\n",
       "65  66.781200  Group 3\n",
       "44  47.607390  Group 2\n",
       "13  40.433599  Group 1"
      ]
     },
     "execution_count": 13,
     "metadata": {},
     "output_type": "execute_result"
    }
   ],
   "source": [
    "# Creating a dataframe from the generated data\n",
    "\n",
    "data = pd.DataFrame({\n",
    "    \"values\": np.concatenate([group_1, group_2, group_3]) , \n",
    "    \"groups\": [\"Group 1\"]*30 + [\"Group 2\"]*30 + [\"Group 3\"]*30\n",
    "})\n",
    "data.sample(7)"
   ]
  },
  {
   "cell_type": "markdown",
   "id": "d3d9cf5f-eeb4-422a-8d61-b0dcd8fcba78",
   "metadata": {},
   "source": [
    "## 2. Visualizing the data"
   ]
  },
  {
   "cell_type": "markdown",
   "id": "8716be2a-e8ca-429c-9816-92559334f8a6",
   "metadata": {},
   "source": [
    "# 📊 Understanding Box Plots\n",
    "\n",
    "Box plots (also called **box-and-whisker plots**) are used to visualize the distribution of data. Apart from detecting **outliers**, they also provide insights into:\n",
    "\n",
    "### 1️⃣ Data Distribution & Spread  \n",
    "   - Box plots summarize data using five key statistics:  \n",
    "     - **Minimum** (smallest non-outlier value)  \n",
    "     - **First Quartile (Q1)** (25th percentile)  \n",
    "     - **Median (Q2)** (50th percentile)  \n",
    "     - **Third Quartile (Q3)** (75th percentile)  \n",
    "     - **Maximum** (largest non-outlier value)  \n",
    "\n",
    "### 2️⃣ Central Tendency  \n",
    "   - The **median** (Q2) is shown as a line inside the box, representing the central value of the dataset.  \n",
    "\n",
    "### 3️⃣ Variability (Interquartile Range, IQR)  \n",
    "   - The **Interquartile Range (IQR)** is calculated as:  \n",
    "     \\[\n",
    "     IQR = Q3 - Q1\n",
    "     \\]\n",
    "   - A larger IQR indicates more spread in the middle 50% of the data.  \n",
    "\n",
    "### 4️⃣ Skewness & Symmetry  \n",
    "   - **Symmetric data** → Median is centered inside the box.  \n",
    "   - **Right-skewed data** → Median is closer to Q1, with a longer upper whisker.  \n",
    "   - **Left-skewed data** → Median is closer to Q3, with a longer lower whisker.  \n",
    "\n",
    "### 5️⃣ Comparison Between Groups  \n",
    "   - Multiple box plots can be plotted together to compare different categories or datasets.  \n",
    "   - Useful for visualizing differences in distributions across groups.  \n",
    "\n",
    "### 6️⃣ Presence of Clusters or Gaps  \n",
    "   - Large **gaps** between quartiles or whiskers indicate areas where data is sparse.  \n",
    "   - **Clusters** can be inferred when certain quartiles are compressed together.  \n",
    "\n",
    "---\n",
    "✅ **Key Takeaway**: Box plots provide a compact yet powerful summary of a dataset's **spread, central tendency, skewness, and variability**, making them great for exploratory data analysis (EDA).  \n"
   ]
  },
  {
   "cell_type": "code",
   "execution_count": 20,
   "id": "44c70780-78e9-4127-be9c-9f7be72dcc21",
   "metadata": {},
   "outputs": [
    {
     "data": {
      "text/plain": [
       "['Solarize_Light2',\n",
       " '_classic_test_patch',\n",
       " '_mpl-gallery',\n",
       " '_mpl-gallery-nogrid',\n",
       " 'bmh',\n",
       " 'classic',\n",
       " 'dark_background',\n",
       " 'fast',\n",
       " 'fivethirtyeight',\n",
       " 'ggplot',\n",
       " 'grayscale',\n",
       " 'seaborn-v0_8',\n",
       " 'seaborn-v0_8-bright',\n",
       " 'seaborn-v0_8-colorblind',\n",
       " 'seaborn-v0_8-dark',\n",
       " 'seaborn-v0_8-dark-palette',\n",
       " 'seaborn-v0_8-darkgrid',\n",
       " 'seaborn-v0_8-deep',\n",
       " 'seaborn-v0_8-muted',\n",
       " 'seaborn-v0_8-notebook',\n",
       " 'seaborn-v0_8-paper',\n",
       " 'seaborn-v0_8-pastel',\n",
       " 'seaborn-v0_8-poster',\n",
       " 'seaborn-v0_8-talk',\n",
       " 'seaborn-v0_8-ticks',\n",
       " 'seaborn-v0_8-white',\n",
       " 'seaborn-v0_8-whitegrid',\n",
       " 'tableau-colorblind10']"
      ]
     },
     "execution_count": 20,
     "metadata": {},
     "output_type": "execute_result"
    }
   ],
   "source": [
    "plt.style.available"
   ]
  },
  {
   "cell_type": "code",
   "execution_count": 21,
   "id": "04d1ea11-0a2a-4bf5-a30d-cdf522d9665b",
   "metadata": {},
   "outputs": [
    {
     "data": {
      "image/png": "[encoded data removed]",
      "text/plain": [
       "<Figure size 1200x600 with 1 Axes>"
      ]
     },
     "metadata": {},
     "output_type": "display_data"
    }
   ],
   "source": [
    "# Creating box plots\n",
    "\n",
    "with plt.style.context(\"seaborn-v0_8\"):\n",
    "    plt.figure(figsize = (12, 6))\n",
    "    sns.boxplot(x = \"groups\", y = \"values\", data = data)"
   ]
  },
  {
   "cell_type": "markdown",
   "id": "02779d2c-b13b-423b-bc1d-a278dfdf0ea8",
   "metadata": {},
   "source": [
    "## One Way Anova\n",
    "\n",
    "Hypothesis\n",
    "----------\n",
    "\n",
    "- H0 => mean of group 1 = mean of group 2 = mean of group 3\n",
    "- Ha => at least one mean is different"
   ]
  },
  {
   "cell_type": "code",
   "execution_count": 26,
   "id": "7e926d73-d369-4c07-953e-cb2b4de61a4c",
   "metadata": {},
   "outputs": [
    {
     "name": "stdout",
     "output_type": "stream",
     "text": [
      "F-statistic\t = 40.97563597701798\n",
      "p-value\t\t = 2.89376813507169e-13\n"
     ]
    }
   ],
   "source": [
    "# Anova test\n",
    "from scipy.stats import f_oneway\n",
    "\n",
    "# Initiliazing the anova test\n",
    "F_statistic, p_value = f_oneway(group_1, group_2, group_3)\n",
    "print(f\"F-statistic\\t = {F_statistic}\\np-value\\t\\t = {p_value}\")"
   ]
  },
  {
   "cell_type": "code",
   "execution_count": 27,
   "id": "a4a344b0-82e1-4071-8190-2652f4fdabce",
   "metadata": {},
   "outputs": [
    {
     "name": "stdout",
     "output_type": "stream",
     "text": [
      "Rejection of the null hypothesis: At least one mean is different\n"
     ]
    }
   ],
   "source": [
    "# Interpretation of the anova test\n",
    "\n",
    "# Setting our significance level\n",
    "alpha = 0.05\n",
    "\n",
    "# Logic\n",
    "if p_value < alpha:\n",
    "    print(\"Rejection of the null hypothesis: At least one mean is different\")\n",
    "else:\n",
    "    print(\"Failure to reject the null hypothesis: Means are the same\")"
   ]
  },
  {
   "cell_type": "markdown",
   "id": "81eb58f4-ec4b-491c-851b-cbf74fa77381",
   "metadata": {},
   "source": [
    "## Post-Hoc Analysis\n",
    "\n",
    "- When the Anova test is completed and we reject the null Hypothesis (Meaning at least one group mean differs) Post-Hoc analysis is used to determine which specific groups differ\n",
    "\n",
    "Types of Post-Hoc Test\n",
    "----------------------\n",
    "1. Tukey's Honestly significant difference(HSD) - most commony used\n",
    "2. Bonferroni Correction - Adjust significance level to control false positives\n",
    "3. Scheffe's test - More conservative, good for unequal sample sizes\n",
    "4. Dunn's test - Used for non-parametric ANOVA(Kruskall Wallis test)\n",
    "\n",
    "\n",
    "- We will focus on  the Post-Hoc in this example\n",
    "\n",
    "Tukey's honestly significant difference (Tukey's HSD)\n",
    "-----------------------------------------------------\n",
    "\n",
    "  `statsmodels.stats.multicomp.pairwise_tukeyhsd`\n",
    "\n",
    "- Compares all positive pairs of groups while adjusting for mutiple comparisons\n",
    "- It helps determine which groups differ significantly\n",
    "\n",
    "\n",
    "Steps using python\n",
    "------------------\n",
    "\n",
    "## 📊 Tukey HSD Analysis\n",
    "\n",
    "```python\n",
    "# Importing the required library\n",
    "from statsmodels.stats.multicomp import pairwise_tukeyhsd\n",
    "\n",
    "# Instantiations\n",
    "tukey = pairwise_tukeyhsd(data[\"values\"], data[\"groups\"], alpha=0.05)\n",
    "\n",
    "# Display results\n",
    "print(tukey)\n",
    "\n",
    "## 📊 Tukey HSD Results\n",
    "\n",
    "Multiple Comparison of Means - Tukey HSD, FWER=0.05 \n",
    "=====================================================\n",
    " group1  group2 meandiff p-adj  lower   upper  reject\n",
    "-----------------------------------------------------\n",
    "Group 1 Group 2   5.3349 0.0001 2.4357  8.2341   True\n",
    "Group 1 Group 3  11.0052    0.0  8.106 13.9044   True\n",
    "Group 2 Group 3   5.6702    0.0  2.771  8.5694   True\n",
    "-----------------------------------------------------\n",
    "# Plotting the results\n",
    "tukey.plot_simultaneous()\n",
    "plt.show()\n"
   ]
  },
  {
   "cell_type": "markdown",
   "id": "35b56126-5b27-4a01-a4c4-13f753b183a3",
   "metadata": {},
   "source": [
    "## 🎯 Interpreting Results  \n",
    "\n",
    "### 📌 Key Terms  \n",
    "\n",
    "- **🟢 group1 & group2** → The two groups being compared  \n",
    "- **🔵 meandiff** → The difference between the two groups in comparison  \n",
    "- **🟣 p-adj** → Adjusted p-value (to control for multiple comparisons)  \n",
    "- **🟠 lower & upper** → The confidence intervals for the mean difference  \n",
    "- **🔴 reject** → If **True**, the difference is **statistically significant**  \n"
   ]
  },
  {
   "cell_type": "markdown",
   "id": "7280b83a-e60f-4f75-9f80-a54238ad201a",
   "metadata": {},
   "source": [
    "## Visualizing the tukey plot interpretation\n",
    "\n",
    "- This plot shows confidence interval for each comparison\n",
    "- If the confidence intervals do not overlap, the difference is significant\n",
    "\n",
    "## Decision Rule \n",
    "- If p-adj < 0.05(the threshhold we select), reject the null hypothesis meaning the groups are significantly different\n",
    "- if p-adj >= 0.05, we fail to reject the null hypothesis meaning the difference is not statistically significant"
   ]
  },
  {
   "cell_type": "markdown",
   "id": "0610fc8c-b8bf-4baf-9b0e-00664a20fbab",
   "metadata": {},
   "source": [
    "## Note: Confidence interval overlap\n",
    "\n",
    "Example of a confidence interval overlap\n",
    "----------------------------------------\n",
    "Group 1: (45, 55)  \n",
    "\n",
    "Group 2: (50, 60)  \n",
    "\n",
    "Example of a confidence interval non-overlap\n",
    "--------------------------------------------\n",
    "Group 1: (45, 55)\n",
    "\n",
    "Group 2: (60, 70)"
   ]
  },
  {
   "cell_type": "code",
   "execution_count": 36,
   "id": "5f832a95-8db9-45d4-be01-c8e237cb379c",
   "metadata": {},
   "outputs": [
    {
     "name": "stdout",
     "output_type": "stream",
     "text": [
      " Multiple Comparison of Means - Tukey HSD, FWER=0.05 \n",
      "=====================================================\n",
      " group1  group2 meandiff p-adj  lower   upper  reject\n",
      "-----------------------------------------------------\n",
      "Group 1 Group 2   5.3349 0.0001 2.4357  8.2341   True\n",
      "Group 1 Group 3  11.0052    0.0  8.106 13.9044   True\n",
      "Group 2 Group 3   5.6702    0.0  2.771  8.5694   True\n",
      "-----------------------------------------------------\n"
     ]
    }
   ],
   "source": [
    "# Tukey HSD Analysis\n",
    "from statsmodels.stats.multicomp import pairwise_tukeyhsd\n",
    "\n",
    "# Instantiations\n",
    "tukey = pairwise_tukeyhsd(data[\"values\"], data[\"groups\"], alpha = 0.05)\n",
    "print(tukey)"
   ]
  },
  {
   "cell_type": "code",
   "execution_count": 38,
   "id": "1f2dbfe6-426e-4d57-918b-57a617f80ed1",
   "metadata": {},
   "outputs": [
    {
     "data": {
      "image/png": "[encoded data removed]",
      "text/plain": [
       "<Figure size 1000x600 with 1 Axes>"
      ]
     },
     "metadata": {},
     "output_type": "display_data"
    }
   ],
   "source": [
    "# Plotting the results\n",
    "tukey.plot_simultaneous()\n",
    "plt.show()"
   ]
  },
  {
   "cell_type": "markdown",
   "id": "fd286bb3-01fb-4384-b338-9516391b7427",
   "metadata": {},
   "source": [
    "## Conclusion \n",
    "\n",
    "1. The One-Way anova test suggested that there is a significant difference in means of groups\n",
    "2. The post Hoc analysis suggested all the means are different"
   ]
  },
  {
   "cell_type": "code",
   "execution_count": null,
   "id": "15d3102c-b1bd-4ead-b552-479b470dbff8",
   "metadata": {},
   "outputs": [],
   "source": []
  }
 ],
 "metadata": {
  "kernelspec": {
   "display_name": "Python 3 (ipykernel)",
   "language": "python",
   "name": "python3"
  },
  "language_info": {
   "codemirror_mode": {
    "name": "ipython",
    "version": 3
   },
   "file_extension": ".py",
   "mimetype": "text/x-python",
   "name": "python",
   "nbconvert_exporter": "python",
   "pygments_lexer": "ipython3",
   "version": "3.11.10"
  }
 },
 "nbformat": 4,
 "nbformat_minor": 5
}

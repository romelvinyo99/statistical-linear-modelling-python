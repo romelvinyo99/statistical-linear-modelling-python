{
 "cells": [
  {
   "cell_type": "markdown",
   "id": "2b193f10-9a32-4203-a351-6c639afe5aee",
   "metadata": {},
   "source": [
    "## -----------------------------SIMPLE LINEAR REGRESSION------------------------"
   ]
  },
  {
   "cell_type": "code",
   "execution_count": 1,
   "id": "8e9a85ed-16cc-4db8-aac6-91653fa46d51",
   "metadata": {},
   "outputs": [],
   "source": [
    "# Importations\n",
    "\n",
    "import numpy as np"
   ]
  },
  {
   "cell_type": "markdown",
   "id": "859f9681-7d21-4956-9821-2adecff9a1d1",
   "metadata": {},
   "source": [
    "## 1. Finding regression coefficients - applying the beta formula"
   ]
  },
  {
   "cell_type": "code",
   "execution_count": 23,
   "id": "946924f1-acb8-40f5-b505-62efc2674447",
   "metadata": {},
   "outputs": [
    {
     "name": "stdout",
     "output_type": "stream",
     "text": [
      "Regression Coefficients (Beta): [0. 2.]\n"
     ]
    }
   ],
   "source": [
    "# Dataset\n",
    "x = np.array([1, 2, 3, 4])\n",
    "y = np.array([2, 4, 6, 8])\n",
    "\n",
    "# Add intercept term (column of ones) to x\n",
    "X = np.vstack([np.ones(x.shape[0]), x]).T\n",
    "\n",
    "# Compute beta coefficients\n",
    "beta = np.linalg.inv(X.T @ X) @ X.T @ y\n",
    "print(\"Regression Coefficients (Beta):\", beta)"
   ]
  },
  {
   "cell_type": "markdown",
   "id": "f2f7fafa-8765-45b3-97a0-e9b7fd03d35f",
   "metadata": {},
   "source": [
    "## 2. Prediction of values using coefficients"
   ]
  },
  {
   "cell_type": "code",
   "execution_count": 26,
   "id": "2ba4f072-d29e-405b-a02f-34b4d6703384",
   "metadata": {},
   "outputs": [
    {
     "name": "stdout",
     "output_type": "stream",
     "text": [
      "Predicted y values for x=5 and x=6: 10 and 12 respectively\n"
     ]
    }
   ],
   "source": [
    "# Regression coefficients from Problem 1\n",
    "beta = np.array([0, 2])  # Intercept (beta_0) and Slope (beta_1)\n",
    "\n",
    "# New x values for prediction\n",
    "x_new = np.array([5, 6])\n",
    "\n",
    "# Prediction using the regression equation: y = beta_0 + beta_1 * x\n",
    "y_pred = beta[0] + beta[1] * x_new\n",
    "\n",
    "print(\"Predicted y values for x=5 and x=6:\", y_pred[0],\"and\", y_pred[1], \"respectively\")\n"
   ]
  },
  {
   "cell_type": "markdown",
   "id": "96b30f11-fa7a-46de-b9ec-f3a6b942d267",
   "metadata": {},
   "source": [
    "## 3. Weighted Linear Regression"
   ]
  },
  {
   "cell_type": "code",
   "execution_count": 27,
   "id": "a5836859-31aa-4953-879a-bf841b421aa4",
   "metadata": {},
   "outputs": [
    {
     "name": "stdout",
     "output_type": "stream",
     "text": [
      "Weighted Regression Coefficients: [-0.02258065  2.01290323]\n",
      "Predicted y for x=2.5: 5.009677419354837\n"
     ]
    }
   ],
   "source": [
    "# Modified dataset\n",
    "x = np.array([1, 2, 3, 4])\n",
    "y = np.array([2.2, 3.9, 5.8, 8.1])\n",
    "\n",
    "# Add intercept term to x\n",
    "X = np.vstack([np.ones(x.shape[0]), x]).T\n",
    "\n",
    "# Weight matrix\n",
    "W = np.diag([1, 2, 1, 3])\n",
    "\n",
    "# Compute weighted regression coefficients\n",
    "beta_weighted = np.linalg.inv(X.T @ W @ X) @ X.T @ W @ y\n",
    "print(\"Weighted Regression Coefficients:\", beta_weighted)\n",
    "\n",
    "# Predict response for x = 2.5\n",
    "x_new = 2.5\n",
    "y_new_pred = beta_weighted[0] + beta_weighted[1] * x_new\n",
    "print(\"Predicted y for x=2.5:\", y_new_pred)"
   ]
  },
  {
   "cell_type": "markdown",
   "id": "a9cedf39-9512-45ef-ab27-843e71d51fa7",
   "metadata": {},
   "source": [
    "## Multi-variate Linear Regression"
   ]
  },
  {
   "cell_type": "code",
   "execution_count": 28,
   "id": "4fd8be12-d585-447d-b198-547579149f92",
   "metadata": {},
   "outputs": [
    {
     "name": "stdout",
     "output_type": "stream",
     "text": [
      "Multivariate Regression Coefficients: [1.  2.2]\n",
      "Predicted y for x1=2 and x2=3: 7.600000000000001\n"
     ]
    }
   ],
   "source": [
    "# Multivariate dataset\n",
    "X = np.array([\n",
    "    [1, 1],\n",
    "    [1, 2],\n",
    "    [1, 3],\n",
    "    [1, 4]\n",
    "])\n",
    "y = np.array([3, 6, 7, 10])\n",
    "\n",
    "# Compute beta coefficients\n",
    "beta_multivariate = np.linalg.inv(X.T @ X) @ X.T @ y\n",
    "print(\"Multivariate Regression Coefficients:\", beta_multivariate)\n",
    "\n",
    "# Predict for x1=2 and x2=3\n",
    "x1, x2 = 2, 3\n",
    "y_multivariate_pred = beta_multivariate[0] + beta_multivariate[1] * x2\n",
    "print(\"Predicted y for x1=2 and x2=3:\", y_multivariate_pred)\n"
   ]
  }
 ],
 "metadata": {
  "kernelspec": {
   "display_name": "Python 3 (ipykernel)",
   "language": "python",
   "name": "python3"
  },
  "language_info": {
   "codemirror_mode": {
    "name": "ipython",
    "version": 3
   },
   "file_extension": ".py",
   "mimetype": "text/x-python",
   "name": "python",
   "nbconvert_exporter": "python",
   "pygments_lexer": "ipython3",
   "version": "3.11.10"
  }
 },
 "nbformat": 4,
 "nbformat_minor": 5
}
